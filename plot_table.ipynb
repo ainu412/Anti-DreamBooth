{
 "cells": [
  {
   "cell_type": "code",
   "execution_count": 10,
   "id": "initial_id",
   "metadata": {
    "collapsed": true,
    "ExecuteTime": {
     "end_time": "2024-10-29T09:14:21.259402900Z",
     "start_time": "2024-10-29T09:14:21.247814200Z"
    }
   },
   "outputs": [],
   "source": [
    "import numpy as np\n",
    "import pandas as pd\n",
    "import os"
   ]
  },
  {
   "cell_type": "code",
   "execution_count": 11,
   "outputs": [],
   "source": [
    "celeb20_img_id_list = ['ariana', 'beyonce', 'bruce', 'cristiano', 'ellen', 'emma', 'george', 'jackie', 'james',\n",
    "                       'johnny', 'justin', 'kate', 'leonardo', 'lucy', 'morgan', 'oprah', 'rihanna', 'shah', 'shirley',\n",
    "                       'taylor']\n",
    "myfriends_img_id_list = ['amy', 'kiat', 'qian', 'yuexin', 'ziyi']\n",
    "\n",
    "dataset_name2id = {'celeb20': celeb20_img_id_list, 'myfriends': myfriends_img_id_list}"
   ],
   "metadata": {
    "collapsed": false,
    "ExecuteTime": {
     "end_time": "2024-10-29T09:14:21.290656700Z",
     "start_time": "2024-10-29T09:14:21.275031100Z"
    }
   },
   "id": "ef878f93ee0ba2ed"
  },
  {
   "cell_type": "code",
   "execution_count": 12,
   "outputs": [],
   "source": [
    "def cal_average(dataset):\n",
    "    result_df = pd.read_csv('result/result.csv')\n",
    "    img_id_li = dataset_name2id[dataset]\n",
    "\n",
    "    result_dic = dict()\n",
    "    for defense in ['_adavoc', '_ape', '_bf', '_bf_gn', '_diffpure', '_gn', '_gn_bf', '_pdmpure', '']:\n",
    "        result_dic['defense'] = 'None' if defense == '' else defense[1:]\n",
    "\n",
    "        for attack in ['aspl', 'glaze', 'metacloak', 'mist']:\n",
    "            for metric in ['ism', 'fdr']:\n",
    "                v_li = []\n",
    "                for img_id in img_id_li:\n",
    "                    # print(f'{img_id}_{attack}{defense}')\n",
    "                    var = result_df[(result_df['img'] == f'{img_id}_{attack}{defense}')][metric].values[0]\n",
    "                    v_li.append(float(var))\n",
    "                result_dic[f'{attack}_{metric}'] = '%.4f' % np.average(v_li)\n",
    "\n",
    "        df = pd.DataFrame(result_dic, index=[0])\n",
    "        csv_path = f'result/{dataset}.csv'\n",
    "        # csv_path = f'result/result_celeb20_finetune_input_avg.csv'\n",
    "        if not os.path.exists(csv_path):\n",
    "            df.to_csv(csv_path, index=False)\n",
    "        else:\n",
    "            df.to_csv(csv_path, index=False, mode='a', header=False)\n"
   ],
   "metadata": {
    "collapsed": false,
    "ExecuteTime": {
     "end_time": "2024-10-29T09:14:21.306281300Z",
     "start_time": "2024-10-29T09:14:21.290656700Z"
    }
   },
   "id": "be91cc299ff4f871"
  },
  {
   "cell_type": "code",
   "execution_count": 13,
   "outputs": [
    {
     "data": {
      "text/plain": "    defense  aspl_ism  aspl_fdr  glaze_ism  glaze_fdr  metacloak_ism  \\\n0    adavoc    0.4505    0.7781     0.4876     0.8625         0.3547   \n1       ape    0.5096    0.8344     0.5632     0.9094         0.5113   \n2        bf    0.5455    0.6781     0.6599     0.9094         0.5493   \n3     bf_gn    0.6765    0.9187     0.6772     0.9156         0.6103   \n4  diffpure    0.1413    0.8375     0.1427     0.8781         0.1641   \n5        gn    0.6571    0.9531     0.6964     0.9656         0.5973   \n6     gn_bf    0.6628    0.8938     0.6818     0.8969         0.5995   \n7   pdmpure    0.5618    0.8812     0.5835     0.8812         0.5664   \n8       NaN    0.5209    0.6813     0.6343     0.9406         0.5434   \n\n   metacloak_fdr  mist_ism  mist_fdr  \n0         0.5594    0.4415    0.8156  \n1         0.7406    0.4949    0.8875  \n2         0.6156    0.5224    0.9187  \n3         0.9187    0.6391    0.9375  \n4         0.8688    0.1618    0.8406  \n5         0.9313    0.5570    0.8906  \n6         0.8031    0.5894    0.9219  \n7         0.8594    0.5916    0.8719  \n8         0.6375    0.2424    0.6156  ",
      "text/html": "<div>\n<style scoped>\n    .dataframe tbody tr th:only-of-type {\n        vertical-align: middle;\n    }\n\n    .dataframe tbody tr th {\n        vertical-align: top;\n    }\n\n    .dataframe thead th {\n        text-align: right;\n    }\n</style>\n<table border=\"1\" class=\"dataframe\">\n  <thead>\n    <tr style=\"text-align: right;\">\n      <th></th>\n      <th>defense</th>\n      <th>aspl_ism</th>\n      <th>aspl_fdr</th>\n      <th>glaze_ism</th>\n      <th>glaze_fdr</th>\n      <th>metacloak_ism</th>\n      <th>metacloak_fdr</th>\n      <th>mist_ism</th>\n      <th>mist_fdr</th>\n    </tr>\n  </thead>\n  <tbody>\n    <tr>\n      <th>0</th>\n      <td>adavoc</td>\n      <td>0.4505</td>\n      <td>0.7781</td>\n      <td>0.4876</td>\n      <td>0.8625</td>\n      <td>0.3547</td>\n      <td>0.5594</td>\n      <td>0.4415</td>\n      <td>0.8156</td>\n    </tr>\n    <tr>\n      <th>1</th>\n      <td>ape</td>\n      <td>0.5096</td>\n      <td>0.8344</td>\n      <td>0.5632</td>\n      <td>0.9094</td>\n      <td>0.5113</td>\n      <td>0.7406</td>\n      <td>0.4949</td>\n      <td>0.8875</td>\n    </tr>\n    <tr>\n      <th>2</th>\n      <td>bf</td>\n      <td>0.5455</td>\n      <td>0.6781</td>\n      <td>0.6599</td>\n      <td>0.9094</td>\n      <td>0.5493</td>\n      <td>0.6156</td>\n      <td>0.5224</td>\n      <td>0.9187</td>\n    </tr>\n    <tr>\n      <th>3</th>\n      <td>bf_gn</td>\n      <td>0.6765</td>\n      <td>0.9187</td>\n      <td>0.6772</td>\n      <td>0.9156</td>\n      <td>0.6103</td>\n      <td>0.9187</td>\n      <td>0.6391</td>\n      <td>0.9375</td>\n    </tr>\n    <tr>\n      <th>4</th>\n      <td>diffpure</td>\n      <td>0.1413</td>\n      <td>0.8375</td>\n      <td>0.1427</td>\n      <td>0.8781</td>\n      <td>0.1641</td>\n      <td>0.8688</td>\n      <td>0.1618</td>\n      <td>0.8406</td>\n    </tr>\n    <tr>\n      <th>5</th>\n      <td>gn</td>\n      <td>0.6571</td>\n      <td>0.9531</td>\n      <td>0.6964</td>\n      <td>0.9656</td>\n      <td>0.5973</td>\n      <td>0.9313</td>\n      <td>0.5570</td>\n      <td>0.8906</td>\n    </tr>\n    <tr>\n      <th>6</th>\n      <td>gn_bf</td>\n      <td>0.6628</td>\n      <td>0.8938</td>\n      <td>0.6818</td>\n      <td>0.8969</td>\n      <td>0.5995</td>\n      <td>0.8031</td>\n      <td>0.5894</td>\n      <td>0.9219</td>\n    </tr>\n    <tr>\n      <th>7</th>\n      <td>pdmpure</td>\n      <td>0.5618</td>\n      <td>0.8812</td>\n      <td>0.5835</td>\n      <td>0.8812</td>\n      <td>0.5664</td>\n      <td>0.8594</td>\n      <td>0.5916</td>\n      <td>0.8719</td>\n    </tr>\n    <tr>\n      <th>8</th>\n      <td>NaN</td>\n      <td>0.5209</td>\n      <td>0.6813</td>\n      <td>0.6343</td>\n      <td>0.9406</td>\n      <td>0.5434</td>\n      <td>0.6375</td>\n      <td>0.2424</td>\n      <td>0.6156</td>\n    </tr>\n  </tbody>\n</table>\n</div>"
     },
     "execution_count": 13,
     "metadata": {},
     "output_type": "execute_result"
    }
   ],
   "source": [
    "cal_average(\"celeb20\")\n",
    "df = pd.read_csv('result/celeb20.csv')\n",
    "df"
   ],
   "metadata": {
    "collapsed": false,
    "ExecuteTime": {
     "end_time": "2024-10-29T09:14:21.587588300Z",
     "start_time": "2024-10-29T09:14:21.306281300Z"
    }
   },
   "id": "65871917061d3df4"
  },
  {
   "cell_type": "code",
   "execution_count": 14,
   "outputs": [],
   "source": [
    "# cal_average(\"myfriends\")\n",
    "# df = pd.read_csv('result/myfriends.csv')\n",
    "# df"
   ],
   "metadata": {
    "collapsed": false,
    "ExecuteTime": {
     "end_time": "2024-10-29T09:14:21.603211800Z",
     "start_time": "2024-10-29T09:14:21.587588300Z"
    }
   },
   "id": "4e4628f617c85977"
  }
 ],
 "metadata": {
  "kernelspec": {
   "display_name": "Python 3",
   "language": "python",
   "name": "python3"
  },
  "language_info": {
   "codemirror_mode": {
    "name": "ipython",
    "version": 2
   },
   "file_extension": ".py",
   "mimetype": "text/x-python",
   "name": "python",
   "nbconvert_exporter": "python",
   "pygments_lexer": "ipython2",
   "version": "2.7.6"
  }
 },
 "nbformat": 4,
 "nbformat_minor": 5
}
